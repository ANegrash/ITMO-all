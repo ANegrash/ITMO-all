{
  "cells": [
    {
      "cell_type": "code",
      "execution_count": 63,
      "metadata": {
        "colab": {
          "base_uri": "https://localhost:8080/"
        },
        "id": "Y5Db0hFswuX6",
        "outputId": "238a23ed-15f5-4a10-dcdc-4c8e217f6e6f"
      },
      "outputs": [
        {
          "output_type": "stream",
          "name": "stdout",
          "text": [
            "Looking in indexes: https://pypi.org/simple, https://us-python.pkg.dev/colab-wheels/public/simple/\n",
            "Requirement already satisfied: pip in /usr/local/lib/python3.7/dist-packages (22.3)\n",
            "\u001b[33mWARNING: Running pip as the 'root' user can result in broken permissions and conflicting behaviour with the system package manager. It is recommended to use a virtual environment instead: https://pip.pypa.io/warnings/venv\u001b[0m\u001b[33m\n",
            "\u001b[0mLooking in indexes: https://pypi.org/simple, https://us-python.pkg.dev/colab-wheels/public/simple/\n",
            "Requirement already satisfied: scikit-learn in /usr/local/lib/python3.7/dist-packages (1.0.2)\n",
            "Requirement already satisfied: scipy>=1.1.0 in /usr/local/lib/python3.7/dist-packages (from scikit-learn) (1.7.3)\n",
            "Requirement already satisfied: threadpoolctl>=2.0.0 in /usr/local/lib/python3.7/dist-packages (from scikit-learn) (3.1.0)\n",
            "Requirement already satisfied: numpy>=1.14.6 in /usr/local/lib/python3.7/dist-packages (from scikit-learn) (1.21.6)\n",
            "Requirement already satisfied: joblib>=0.11 in /usr/local/lib/python3.7/dist-packages (from scikit-learn) (1.2.0)\n",
            "\u001b[33mWARNING: Running pip as the 'root' user can result in broken permissions and conflicting behaviour with the system package manager. It is recommended to use a virtual environment instead: https://pip.pypa.io/warnings/venv\u001b[0m\u001b[33m\n",
            "\u001b[0m"
          ]
        }
      ],
      "source": [
        "!pip install --upgrade pip\n",
        "!pip install --upgrade scikit-learn"
      ]
    },
    {
      "cell_type": "code",
      "execution_count": 64,
      "metadata": {
        "id": "s9JFQi3awuX_"
      },
      "outputs": [],
      "source": [
        "import numpy as np\n",
        "import matplotlib\n",
        "import matplotlib.pyplot as plt\n",
        "%matplotlib inline"
      ]
    },
    {
      "cell_type": "code",
      "source": [
        "VARIANT_NUMBER = 11"
      ],
      "metadata": {
        "id": "TE6E__pPUowm"
      },
      "execution_count": 65,
      "outputs": []
    },
    {
      "cell_type": "code",
      "execution_count": 66,
      "metadata": {
        "id": "3fmJ6As2wuYE"
      },
      "outputs": [],
      "source": [
        "from keras.datasets import mnist\n",
        "(X_train, y_train), (X_pred, y_pred) = mnist.load_data()"
      ]
    },
    {
      "cell_type": "code",
      "execution_count": 67,
      "metadata": {
        "colab": {
          "base_uri": "https://localhost:8080/",
          "height": 284
        },
        "id": "VRqvghOEwuYH",
        "outputId": "2dabbe27-139a-4e3b-f361-3d2c3fb6837d"
      },
      "outputs": [
        {
          "output_type": "stream",
          "name": "stdout",
          "text": [
            "5\n"
          ]
        },
        {
          "output_type": "display_data",
          "data": {
            "text/plain": [
              "<Figure size 432x288 with 1 Axes>"
            ],
            "image/png": "[encoded data removed]"
          },
          "metadata": {
            "needs_background": "light"
          }
        }
      ],
      "source": [
        "plt.imshow(X_train[0], cmap=\"gray\")\n",
        "print(y_train[0])"
      ]
    },
    {
      "cell_type": "code",
      "execution_count": 68,
      "metadata": {
        "id": "Ky3TFgo-wuYO"
      },
      "outputs": [],
      "source": [
        "from sklearn.model_selection import train_test_split\n",
        "\n",
        "X_train, X_test, y_train, y_test = train_test_split(X_train, y_train, test_size=0.2, random_state=VARIANT_NUMBER)\n",
        "\n",
        "dim = 28*28\n",
        "X_train = X_train.reshape(len(X_train), dim)\n",
        "X_test = X_test.reshape(len(X_test), dim)"
      ]
    },
    {
      "cell_type": "code",
      "execution_count": 69,
      "metadata": {
        "id": "ZnvBJSY4wuYT"
      },
      "outputs": [],
      "source": [
        "# уменьшим размерность\n",
        "from sklearn.decomposition import PCA\n",
        "\n",
        "pca = PCA(svd_solver='full')\n",
        "modelPCA = pca.fit(X_train) \n",
        "X_train = modelPCA.transform(X_train)"
      ]
    },
    {
      "cell_type": "code",
      "execution_count": 70,
      "metadata": {
        "scrolled": true,
        "colab": {
          "base_uri": "https://localhost:8080/"
        },
        "id": "DqUzHt7AwuYU",
        "outputId": "69c6874e-a704-4628-ec20-f4fdef832724"
      },
      "outputs": [
        {
          "output_type": "execute_result",
          "data": {
            "text/plain": [
              "array([0.097, 0.168, 0.229, 0.283, 0.332, 0.375, 0.408, 0.437, 0.465,\n",
              "       0.488, 0.509, 0.53 , 0.547, 0.564, 0.58 , 0.594, 0.608, 0.62 ,\n",
              "       0.632, 0.644, 0.654, 0.665, 0.674, 0.683, 0.692, 0.7  , 0.708,\n",
              "       0.716, 0.724, 0.731, 0.737, 0.744, 0.75 , 0.756, 0.761, 0.767,\n",
              "       0.772, 0.777, 0.781, 0.786, 0.791, 0.795, 0.799, 0.803, 0.807,\n",
              "       0.811, 0.815, 0.818, 0.821, 0.825, 0.828, 0.831, 0.834, 0.837,\n",
              "       0.84 , 0.842, 0.845, 0.848, 0.85 , 0.853, 0.855, 0.857, 0.86 ,\n",
              "       0.862, 0.864, 0.866, 0.868, 0.87 , 0.872, 0.874, 0.876, 0.878,\n",
              "       0.88 , 0.881, 0.883, 0.885, 0.886, 0.888, 0.889, 0.891, 0.892,\n",
              "       0.893, 0.895, 0.896, 0.898, 0.899, 0.9  , 0.901, 0.903, 0.904,\n",
              "       0.905, 0.906, 0.907, 0.908, 0.91 , 0.911, 0.912, 0.913, 0.914,\n",
              "       0.915, 0.916, 0.917, 0.918, 0.918, 0.919, 0.92 , 0.921, 0.922,\n",
              "       0.923, 0.924, 0.924, 0.925, 0.926, 0.927, 0.928, 0.928, 0.929,\n",
              "       0.93 , 0.931, 0.931, 0.932, 0.933, 0.933, 0.934, 0.935, 0.935,\n",
              "       0.936, 0.937, 0.937, 0.938, 0.938, 0.939, 0.94 , 0.94 , 0.941,\n",
              "       0.941, 0.942, 0.942, 0.943, 0.943, 0.944, 0.945, 0.945, 0.946,\n",
              "       0.946, 0.947, 0.947, 0.947, 0.948, 0.948, 0.949, 0.949, 0.95 ,\n",
              "       0.95 , 0.951, 0.951, 0.952, 0.952, 0.952, 0.953, 0.953, 0.954,\n",
              "       0.954, 0.954, 0.955, 0.955, 0.956, 0.956, 0.956, 0.957, 0.957,\n",
              "       0.958, 0.958, 0.958, 0.959, 0.959, 0.959, 0.96 , 0.96 , 0.96 ,\n",
              "       0.961, 0.961, 0.961, 0.962, 0.962, 0.962, 0.963, 0.963, 0.963,\n",
              "       0.964, 0.964, 0.964, 0.964, 0.965, 0.965, 0.965, 0.966, 0.966,\n",
              "       0.966, 0.966, 0.967, 0.967, 0.967, 0.968, 0.968, 0.968, 0.968,\n",
              "       0.969, 0.969, 0.969, 0.969, 0.97 , 0.97 , 0.97 , 0.97 , 0.971,\n",
              "       0.971, 0.971, 0.971, 0.972, 0.972, 0.972, 0.972, 0.973, 0.973,\n",
              "       0.973, 0.973, 0.974, 0.974, 0.974, 0.974, 0.974, 0.975, 0.975,\n",
              "       0.975, 0.975, 0.976, 0.976, 0.976, 0.976, 0.976, 0.977, 0.977,\n",
              "       0.977, 0.977, 0.977, 0.978, 0.978, 0.978, 0.978, 0.978, 0.979,\n",
              "       0.979, 0.979, 0.979, 0.979, 0.979, 0.98 , 0.98 , 0.98 , 0.98 ,\n",
              "       0.98 , 0.981, 0.981, 0.981, 0.981, 0.981, 0.981, 0.982, 0.982,\n",
              "       0.982, 0.982, 0.982, 0.982, 0.983, 0.983, 0.983, 0.983, 0.983,\n",
              "       0.983, 0.983, 0.984, 0.984, 0.984, 0.984, 0.984, 0.984, 0.985,\n",
              "       0.985, 0.985, 0.985, 0.985, 0.985, 0.985, 0.986, 0.986, 0.986,\n",
              "       0.986, 0.986, 0.986, 0.986, 0.987, 0.987, 0.987, 0.987, 0.987,\n",
              "       0.987, 0.987, 0.987, 0.988, 0.988, 0.988, 0.988, 0.988, 0.988,\n",
              "       0.988, 0.988, 0.989, 0.989, 0.989, 0.989, 0.989, 0.989, 0.989,\n",
              "       0.989, 0.989, 0.99 , 0.99 , 0.99 , 0.99 , 0.99 , 0.99 , 0.99 ,\n",
              "       0.99 , 0.99 , 0.991, 0.991, 0.991, 0.991, 0.991, 0.991, 0.991,\n",
              "       0.991, 0.991, 0.991, 0.992, 0.992, 0.992, 0.992, 0.992, 0.992,\n",
              "       0.992, 0.992, 0.992, 0.992, 0.993, 0.993, 0.993, 0.993, 0.993,\n",
              "       0.993, 0.993, 0.993, 0.993, 0.993, 0.993, 0.993, 0.994, 0.994,\n",
              "       0.994, 0.994, 0.994, 0.994, 0.994, 0.994, 0.994, 0.994, 0.994,\n",
              "       0.994, 0.994, 0.995, 0.995, 0.995, 0.995, 0.995, 0.995, 0.995,\n",
              "       0.995, 0.995, 0.995, 0.995, 0.995, 0.995, 0.995, 0.996, 0.996,\n",
              "       0.996, 0.996, 0.996, 0.996, 0.996, 0.996, 0.996, 0.996, 0.996,\n",
              "       0.996, 0.996, 0.996, 0.996, 0.996, 0.996, 0.997, 0.997, 0.997,\n",
              "       0.997, 0.997, 0.997, 0.997, 0.997, 0.997, 0.997, 0.997, 0.997,\n",
              "       0.997, 0.997, 0.997, 0.997, 0.997, 0.997, 0.997, 0.997, 0.997,\n",
              "       0.997, 0.998, 0.998, 0.998, 0.998, 0.998, 0.998, 0.998, 0.998,\n",
              "       0.998, 0.998, 0.998, 0.998, 0.998, 0.998, 0.998, 0.998, 0.998,\n",
              "       0.998, 0.998, 0.998, 0.998, 0.998, 0.998, 0.998, 0.998, 0.998,\n",
              "       0.998, 0.998, 0.998, 0.998, 0.999, 0.999, 0.999, 0.999, 0.999,\n",
              "       0.999, 0.999, 0.999, 0.999, 0.999, 0.999, 0.999, 0.999, 0.999,\n",
              "       0.999, 0.999, 0.999, 0.999, 0.999, 0.999, 0.999, 0.999, 0.999,\n",
              "       0.999, 0.999, 0.999, 0.999, 0.999, 0.999, 0.999, 0.999, 0.999,\n",
              "       0.999, 0.999, 0.999, 0.999, 0.999, 0.999, 0.999, 0.999, 0.999,\n",
              "       0.999, 0.999, 0.999, 0.999, 0.999, 0.999, 0.999, 0.999, 0.999,\n",
              "       0.999, 0.999, 0.999, 0.999, 0.999, 1.   , 1.   , 1.   , 1.   ,\n",
              "       1.   , 1.   , 1.   , 1.   , 1.   , 1.   , 1.   , 1.   , 1.   ,\n",
              "       1.   , 1.   , 1.   , 1.   , 1.   , 1.   , 1.   , 1.   , 1.   ,\n",
              "       1.   , 1.   , 1.   , 1.   , 1.   , 1.   , 1.   , 1.   , 1.   ,\n",
              "       1.   , 1.   , 1.   , 1.   , 1.   , 1.   , 1.   , 1.   , 1.   ,\n",
              "       1.   , 1.   , 1.   , 1.   , 1.   , 1.   , 1.   , 1.   , 1.   ,\n",
              "       1.   , 1.   , 1.   , 1.   , 1.   , 1.   , 1.   , 1.   , 1.   ,\n",
              "       1.   , 1.   , 1.   , 1.   , 1.   , 1.   , 1.   , 1.   , 1.   ,\n",
              "       1.   , 1.   , 1.   , 1.   , 1.   , 1.   , 1.   , 1.   , 1.   ,\n",
              "       1.   , 1.   , 1.   , 1.   , 1.   , 1.   , 1.   , 1.   , 1.   ,\n",
              "       1.   , 1.   , 1.   , 1.   , 1.   , 1.   , 1.   , 1.   , 1.   ,\n",
              "       1.   , 1.   , 1.   , 1.   , 1.   , 1.   , 1.   , 1.   , 1.   ,\n",
              "       1.   , 1.   , 1.   , 1.   , 1.   , 1.   , 1.   , 1.   , 1.   ,\n",
              "       1.   , 1.   , 1.   , 1.   , 1.   , 1.   , 1.   , 1.   , 1.   ,\n",
              "       1.   , 1.   , 1.   , 1.   , 1.   , 1.   , 1.   , 1.   , 1.   ,\n",
              "       1.   , 1.   , 1.   , 1.   , 1.   , 1.   , 1.   , 1.   , 1.   ,\n",
              "       1.   , 1.   , 1.   , 1.   , 1.   , 1.   , 1.   , 1.   , 1.   ,\n",
              "       1.   , 1.   , 1.   , 1.   , 1.   , 1.   , 1.   , 1.   , 1.   ,\n",
              "       1.   , 1.   , 1.   , 1.   , 1.   , 1.   , 1.   , 1.   , 1.   ,\n",
              "       1.   , 1.   , 1.   , 1.   , 1.   , 1.   , 1.   , 1.   , 1.   ,\n",
              "       1.   , 1.   , 1.   , 1.   , 1.   , 1.   , 1.   , 1.   , 1.   ,\n",
              "       1.   , 1.   , 1.   , 1.   , 1.   , 1.   , 1.   , 1.   , 1.   ,\n",
              "       1.   , 1.   , 1.   , 1.   , 1.   , 1.   , 1.   , 1.   , 1.   ,\n",
              "       1.   , 1.   , 1.   , 1.   , 1.   , 1.   , 1.   , 1.   , 1.   ,\n",
              "       1.   , 1.   , 1.   , 1.   , 1.   , 1.   , 1.   , 1.   , 1.   ,\n",
              "       1.   , 1.   , 1.   , 1.   , 1.   , 1.   , 1.   , 1.   , 1.   ,\n",
              "       1.   , 1.   , 1.   , 1.   , 1.   , 1.   , 1.   , 1.   , 1.   ,\n",
              "       1.   , 1.   , 1.   , 1.   , 1.   , 1.   , 1.   , 1.   , 1.   ,\n",
              "       1.   , 1.   , 1.   , 1.   , 1.   , 1.   , 1.   , 1.   , 1.   ,\n",
              "       1.   , 1.   , 1.   , 1.   , 1.   , 1.   , 1.   , 1.   , 1.   ,\n",
              "       1.   ])"
            ]
          },
          "metadata": {},
          "execution_count": 70
        }
      ],
      "source": [
        "# доля объясненной дисперсии\n",
        "explained_variance = np.round(np.cumsum(pca.explained_variance_ratio_),3)\n",
        "explained_variance"
      ]
    },
    {
      "cell_type": "code",
      "source": [
        "plt.plot(np.arange(len(explained_variance)), explained_variance, ls = '-')"
      ],
      "metadata": {
        "colab": {
          "base_uri": "https://localhost:8080/",
          "height": 284
        },
        "id": "brYQfNwnzgr8",
        "outputId": "ce5a9692-f659-479e-f883-38b1334de6cc"
      },
      "execution_count": 71,
      "outputs": [
        {
          "output_type": "execute_result",
          "data": {
            "text/plain": [
              "[<matplotlib.lines.Line2D at 0x7f34898541d0>]"
            ]
          },
          "metadata": {},
          "execution_count": 71
        },
        {
          "output_type": "display_data",
          "data": {
            "text/plain": [
              "<Figure size 432x288 with 1 Axes>"
            ],
            "image/png": "[encoded data removed]"
          },
          "metadata": {
            "needs_background": "light"
          }
        }
      ]
    },
    {
      "cell_type": "code",
      "execution_count": 72,
      "metadata": {
        "colab": {
          "base_uri": "https://localhost:8080/"
        },
        "id": "hKg3cDUdwuYX",
        "outputId": "5886a2bc-244f-4c89-ce46-8e3feaf449d8"
      },
      "outputs": [
        {
          "output_type": "stream",
          "name": "stdout",
          "text": [
            "0.81\n",
            "Dimension: 46\n"
          ]
        }
      ],
      "source": [
        "var = round(0.80 + (VARIANT_NUMBER % 10) / 100, 2)\n",
        "print(var)\n",
        "dimensions = -1\n",
        "for k, v in enumerate(explained_variance):\n",
        "    if v > var:\n",
        "        dimensions = k + 1\n",
        "        break\n",
        "print(\"Dimension:\", dimensions)"
      ]
    },
    {
      "cell_type": "code",
      "execution_count": 73,
      "metadata": {
        "id": "4OEFHeh8wuYa"
      },
      "outputs": [],
      "source": [
        "pca = PCA(n_components=dimensions, svd_solver='full')\n",
        "modelPCA = pca.fit(X_train) \n",
        "\n",
        "X_train = modelPCA.transform(X_train)"
      ]
    },
    {
      "cell_type": "code",
      "execution_count": 62,
      "metadata": {
        "id": "Z_RlZgJKwuYc"
      },
      "outputs": [],
      "source": [
        "from sklearn.multiclass import OneVsRestClassifier\n",
        "from sklearn.ensemble import RandomForestClassifier\n",
        "\n",
        "tree = RandomForestClassifier(criterion='gini', min_samples_leaf=10, max_depth=20, n_estimators=10, random_state=VARIANT_NUMBER)\n",
        "clf = OneVsRestClassifier(tree).fit(X_train, y_train)"
      ]
    },
    {
      "cell_type": "code",
      "execution_count": 74,
      "metadata": {
        "id": "6Eg2c89JwuYf"
      },
      "outputs": [],
      "source": [
        "# применим полученное раннее преобразование к тестовым данным\n",
        "modelPCA = pca.fit(X_test) \n",
        "X_test_transf = modelPCA.transform(X_test)"
      ]
    },
    {
      "cell_type": "code",
      "execution_count": 75,
      "metadata": {
        "id": "MoxjIxRQwuYh"
      },
      "outputs": [],
      "source": [
        "y_pred = clf.predict(X_test_transf)"
      ]
    },
    {
      "cell_type": "code",
      "execution_count": 76,
      "metadata": {
        "colab": {
          "base_uri": "https://localhost:8080/"
        },
        "id": "542RjQhlwuYh",
        "outputId": "a30b8e90-1f66-4cf7-e727-17625effb91f"
      },
      "outputs": [
        {
          "output_type": "stream",
          "name": "stdout",
          "text": [
            "[[ 654    0  101   42   14  118   57    3  197    6]\n",
            " [   5 1106   43   24   42   16   27    4   60   14]\n",
            " [  89    2  783   50   56   28   61   22   52   10]\n",
            " [  70    5   58  839   13  110   11   29   71    3]\n",
            " [   8   10   45   10  701   35   21   65   33  173]\n",
            " [  81    3   78  180   53  471   35    3  134   62]\n",
            " [  75    5  141   18   11   49  842   13   18   10]\n",
            " [   3   33   32   26   75   14    3  870   55  190]\n",
            " [ 212   17   61  154   27  163   11   67  474   54]\n",
            " [  15   24   23   23  300   85   12  326   70  303]]\n"
          ]
        }
      ],
      "source": [
        "from sklearn.metrics import confusion_matrix\n",
        "m_confusion = confusion_matrix(y_test, y_pred)\n",
        "print(m_confusion)"
      ]
    },
    {
      "cell_type": "raw",
      "metadata": {
        "id": "Lk-bmQ3LwuYk"
      },
      "source": [
        "Число верно классифицирвоанных объектов класс 0"
      ]
    },
    {
      "cell_type": "markdown",
      "source": [],
      "metadata": {
        "id": "oal8f3XTMHZa"
      }
    },
    {
      "cell_type": "code",
      "execution_count": 77,
      "metadata": {
        "colab": {
          "base_uri": "https://localhost:8080/"
        },
        "id": "dcupsgMbwuYk",
        "outputId": "ddb65bff-d29f-4eea-8609-41cbe1884218"
      },
      "outputs": [
        {
          "output_type": "stream",
          "name": "stdout",
          "text": [
            "2\n"
          ]
        },
        {
          "output_type": "execute_result",
          "data": {
            "text/plain": [
              "783"
            ]
          },
          "metadata": {},
          "execution_count": 77
        }
      ],
      "source": [
        "# количество объектов класса 2 отнесенных ко 2 классу\n",
        "# second 2 -> count of predicted 2s\n",
        "cl = VARIANT_NUMBER % 9\n",
        "print(cl)\n",
        "m_confusion[cl][cl]\n"
      ]
    },
    {
      "cell_type": "code",
      "execution_count": 78,
      "metadata": {
        "colab": {
          "base_uri": "https://localhost:8080/",
          "height": 302
        },
        "id": "JqZ5zXDLwuYp",
        "outputId": "121cef18-59b1-4d23-e33b-d1b0d398dc2f"
      },
      "outputs": [
        {
          "output_type": "stream",
          "name": "stdout",
          "text": [
            "Predicted class: 7\n",
            "True class: 7\n"
          ]
        },
        {
          "output_type": "display_data",
          "data": {
            "text/plain": [
              "<Figure size 432x288 with 1 Axes>"
            ],
            "image/png": "[encoded data removed]"
          },
          "metadata": {
            "needs_background": "light"
          }
        }
      ],
      "source": [
        "from random import sample\n",
        "index = sample(range(len(X_test_transf)), k=1)[0]\n",
        "obj = X_test[index].reshape(28, 28)\n",
        "plt.imshow(obj, cmap=\"gray\")\n",
        "print(f\"Predicted class: {y_pred[index]}\")\n",
        "print(f\"True class: {y_test[index]}\")"
      ]
    },
    {
      "cell_type": "code",
      "execution_count": 79,
      "metadata": {
        "colab": {
          "base_uri": "https://localhost:8080/"
        },
        "id": "8GROeso_wuYr",
        "outputId": "c82c4bbc-4db7-46a3-dc51-8ebca6d4d2ea"
      },
      "outputs": [
        {
          "output_type": "stream",
          "name": "stdout",
          "text": [
            "[11600, 11476, 6170, 11796, 864]\n",
            "Image #11600: class=3, proba=0.4128\n",
            "Image #11476: class=1, proba=0.3231\n",
            "Image #6170: class=4, proba=0.5541\n",
            "Image #11796: class=5, proba=0.3907\n",
            "Image #864: class=3, proba=0.4138\n"
          ]
        }
      ],
      "source": [
        "from random import sample\n",
        "indexes = sample(range(len(X_test)), k=5)\n",
        "print(indexes)\n",
        "test_objects = [X_test_transf[i] for i in indexes]\n",
        "for number, proba in zip(indexes, clf.predict_proba(test_objects)):\n",
        "    print(f\"Image #{number}: class={y_pred[number]}, proba={round(max(proba), 4)}\")"
      ]
    },
    {
      "cell_type": "markdown",
      "metadata": {
        "id": "Ys4ZcpFWwuYt"
      },
      "source": [
        "Метрики для классификатора"
      ]
    },
    {
      "cell_type": "code",
      "execution_count": 80,
      "metadata": {
        "colab": {
          "base_uri": "https://localhost:8080/"
        },
        "id": "OUQ5clgOwuYu",
        "outputId": "1e5e1e52-467c-41ef-bf77-f4157fd0ba45"
      },
      "outputs": [
        {
          "output_type": "stream",
          "name": "stdout",
          "text": [
            "              precision    recall  f1-score   support\n",
            "\n",
            "           0       0.54      0.55      0.54      1192\n",
            "           1       0.92      0.82      0.87      1341\n",
            "           2       0.57      0.68      0.62      1153\n",
            "           3       0.61      0.69      0.65      1209\n",
            "           4       0.54      0.64      0.59      1101\n",
            "           5       0.43      0.43      0.43      1100\n",
            "           6       0.78      0.71      0.74      1182\n",
            "           7       0.62      0.67      0.64      1301\n",
            "           8       0.41      0.38      0.39      1240\n",
            "           9       0.37      0.26      0.30      1181\n",
            "\n",
            "    accuracy                           0.59     12000\n",
            "   macro avg       0.58      0.58      0.58     12000\n",
            "weighted avg       0.58      0.59      0.58     12000\n",
            "\n"
          ]
        }
      ],
      "source": [
        "from sklearn.metrics import classification_report\n",
        "print(classification_report(y_test, y_pred))\n"
      ]
    }
  ],
  "metadata": {
    "kernelspec": {
      "display_name": "Python 3 (ipykernel)",
      "language": "python",
      "name": "python3"
    },
    "language_info": {
      "codemirror_mode": {
        "name": "ipython",
        "version": 3
      },
      "file_extension": ".py",
      "mimetype": "text/x-python",
      "name": "python",
      "nbconvert_exporter": "python",
      "pygments_lexer": "ipython3",
      "version": "3.9.13"
    },
    "colab": {
      "provenance": []
    }
  },
  "nbformat": 4,
  "nbformat_minor": 0
}